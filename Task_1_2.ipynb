{
 "cells": [
  {
   "cell_type": "code",
   "execution_count": 31,
   "metadata": {},
   "outputs": [
    {
     "name": "stdout",
     "output_type": "stream",
     "text": [
      "2002,2009,2016,2023,2037,2044,2051,2058,2072,2079,2086,2093,2107,2114,2121,2128,2142,2149,2156,2163,2177,2184,2191,2198,2212,2219,2226,2233,2247,2254,2261,2268,2282,2289,2296,2303,2317,2324,2331,2338,2352,2359,2366,2373,2387,2394,2401,2408,2422,2429,2436,2443,2457,2464,2471,2478,2492,2499,2506,2513,2527,2534,2541,2548,2562,2569,2576,2583,2597,2604,2611,2618,2632,2639,2646,2653,2667,2674,2681,2688,2702,2709,2716,2723,2737,2744,2751,2758,2772,2779,2786,2793,2807,2814,2821,2828,2842,2849,2856,2863,2877,2884,2891,2898,2912,2919,2926,2933,2947,2954,2961,2968,2982,2989,2996,3003,3017,3024,3031,3038,3052,3059,3066,3073,3087,3094,3101,3108,3122,3129,3136,3143,3157,3164,3171,3178,3192,3199,"
     ]
    }
   ],
   "source": [
    "l=range(2000,3201,1)\n",
    "m=[]\n",
    "for i in l:\n",
    "    if i%7==0:\n",
    "        if i%5 !=0:\n",
    "            print(i,end=',')"
   ]
  },
  {
   "cell_type": "code",
   "execution_count": 40,
   "metadata": {},
   "outputs": [
    {
     "name": "stdout",
     "output_type": "stream",
     "text": [
      "Enter your first name:krishna\n",
      "Enter your Last name:nanda\n",
      "How your name looks when reversed:\n",
      "anhsirk   adnan\n"
     ]
    }
   ],
   "source": [
    "firstName=input('Enter your first name:')\n",
    "lastName=input('Enter your Last name:')\n",
    "print('How your name looks when reversed:')\n",
    "print(firstName[::-1],' ',lastName[::-1])\n"
   ]
  },
  {
   "cell_type": "code",
   "execution_count": 42,
   "metadata": {},
   "outputs": [
    {
     "name": "stdout",
     "output_type": "stream",
     "text": [
      "Volume of the sphere for dia=12 is:\n",
      "904.7519999999998\n"
     ]
    }
   ],
   "source": [
    "diameter=12\n",
    "r=diameter/2\n",
    "v=(4/3)*3.1415*r*r*r\n",
    "print('Volume of the sphere for dia=12 is:')\n",
    "print(v)"
   ]
  },
  {
   "cell_type": "code",
   "execution_count": 103,
   "metadata": {},
   "outputs": [
    {
     "name": "stdout",
     "output_type": "stream",
     "text": [
      "enter the comma seperated number: 1,5,2,8,4,5\n"
     ]
    },
    {
     "data": {
      "text/plain": [
       "['5', '2', '8', '4', '5']"
      ]
     },
     "execution_count": 103,
     "metadata": {},
     "output_type": "execute_result"
    }
   ],
   "source": [
    "number=input('enter the comma seperated number: ')\n",
    "l=range(1,len(number))\n",
    "m=[]\n",
    "for i in l:\n",
    "    if number[i]!=',':\n",
    "        m.append(number[i])\n",
    "m\n",
    "    "
   ]
  },
  {
   "cell_type": "markdown",
   "metadata": {},
   "source": []
  },
  {
   "cell_type": "code",
   "execution_count": 149,
   "metadata": {},
   "outputs": [
    {
     "name": "stdout",
     "output_type": "stream",
     "text": [
      "*\n",
      "\n",
      "**\n",
      "\n",
      "***\n",
      "\n",
      "****\n",
      "\n",
      "*****\n",
      "\n",
      "****\n",
      "\n",
      "***\n",
      "\n",
      "**\n",
      "\n",
      "*\n",
      "\n",
      "\n",
      "\n"
     ]
    }
   ],
   "source": [
    "l=range(1,6)\n",
    "for i in l:\n",
    "    l1=range(1,i+1)\n",
    "    for j in l1:\n",
    "        print('*',end='')\n",
    "    print('\\n')\n",
    "\n",
    "for i in l:\n",
    "    l1=range(1,len(l)-i+1)\n",
    "    for j in l1:\n",
    "        print('*',end='')\n",
    "    print('\\n')\n"
   ]
  },
  {
   "cell_type": "code",
   "execution_count": 153,
   "metadata": {},
   "outputs": [
    {
     "name": "stdout",
     "output_type": "stream",
     "text": [
      "Enter the wordabcdefgh\n",
      "Input word : abcdefgh\n",
      "output word : hgfedcba\n"
     ]
    }
   ],
   "source": [
    "inputword=input('Enter the word')\n",
    "print('Input word :',inputword)\n",
    "print('output word :',inputword[::-1])"
   ]
  },
  {
   "cell_type": "code",
   "execution_count": 159,
   "metadata": {},
   "outputs": [
    {
     "name": "stdout",
     "output_type": "stream",
     "text": [
      "WE, THE PEOPLE OF INDIA, \n",
      " \t having solemnly resolved to constitute India into a SOVEREIGN, ! \n",
      " \t \t SOCIALIST, SECULAR, DEMOCRATIC REPUBLIC \n",
      " \t \t and to secure to all its citizens\n"
     ]
    }
   ],
   "source": [
    "print('WE, THE PEOPLE OF INDIA,','\\n','\\t','having solemnly resolved to constitute India into a SOVEREIGN, !','\\n','\\t','\\t','SOCIALIST, SECULAR, DEMOCRATIC REPUBLIC','\\n','\\t','\\t','and to secure to all its citizens')\n"
   ]
  },
  {
   "cell_type": "code",
   "execution_count": null,
   "metadata": {},
   "outputs": [],
   "source": []
  }
 ],
 "metadata": {
  "kernelspec": {
   "display_name": "Python 3",
   "language": "python",
   "name": "python3"
  },
  "language_info": {
   "codemirror_mode": {
    "name": "ipython",
    "version": 3
   },
   "file_extension": ".py",
   "mimetype": "text/x-python",
   "name": "python",
   "nbconvert_exporter": "python",
   "pygments_lexer": "ipython3",
   "version": "3.7.4"
  }
 },
 "nbformat": 4,
 "nbformat_minor": 2
}
